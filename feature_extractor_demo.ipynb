{
 "cells": [
  {
   "cell_type": "code",
   "execution_count": 17,
   "metadata": {},
   "outputs": [],
   "source": [
    "import pandas as pd\n",
    "import numpy as np\n",
    "\n",
    "from gensim.test.utils import datapath, get_tmpfile\n",
    "from gensim.models import KeyedVectors\n",
    "from gensim.scripts.glove2word2vec import glove2word2vec"
   ]
  },
  {
   "cell_type": "markdown",
   "metadata": {},
   "source": [
    "# A demo of the feature extractor, in order to extract features in the design documents in order to feed into our ML algorithm"
   ]
  },
  {
   "cell_type": "markdown",
   "metadata": {},
   "source": [
    "### Load GloVe word vectors as a model and as a dictionary"
   ]
  },
  {
   "cell_type": "code",
   "execution_count": 18,
   "metadata": {},
   "outputs": [],
   "source": [
    "file = open(\"glove.6B.300d.txt\", encoding=\"utf8\")\n",
    "\n",
    "word_vecs = {}\n",
    "for line in file:\n",
    "    values = line.split()\n",
    "    word = values[0]\n",
    "    vector = np.asarray(values[1:], \"float32\")\n",
    "    word_vecs[word] = vector"
   ]
  },
  {
   "cell_type": "code",
   "execution_count": 13,
   "metadata": {},
   "outputs": [
    {
     "data": {
      "text/plain": [
       "(400001, 300)"
      ]
     },
     "execution_count": 13,
     "metadata": {},
     "output_type": "execute_result"
    }
   ],
   "source": [
    "glove_file = datapath('C:/Users/msham6/PycharmProjects/nlp/glove.6B.300d.txt')\n",
    "word2vec_glove_file = get_tmpfile(\"glove.6B.300d.word2vec.txt\")\n",
    "glove2word2vec(glove_file, word2vec_glove_file)"
   ]
  },
  {
   "cell_type": "code",
   "execution_count": 14,
   "metadata": {},
   "outputs": [],
   "source": [
    "# load word2vec model\n",
    "model = KeyedVectors.load_word2vec_format(word2vec_glove_file)"
   ]
  },
  {
   "cell_type": "markdown",
   "metadata": {},
   "source": [
    "#### Lets say we are looking for the 'specifications' within a document. The model is able to tell which words are most similar to this."
   ]
  },
  {
   "cell_type": "code",
   "execution_count": 68,
   "metadata": {},
   "outputs": [
    {
     "data": {
      "text/plain": [
       "[('specification', 0.7413736581802368),\n",
       " ('requirements', 0.587746262550354),\n",
       " ('specified', 0.5779179930686951),\n",
       " ('specifies', 0.5399518609046936),\n",
       " ('standards', 0.5142701864242554),\n",
       " ('parameters', 0.511261522769928),\n",
       " ('design', 0.48775291442871094),\n",
       " ('configurations', 0.4876812994480133),\n",
       " ('criteria', 0.4871051013469696),\n",
       " ('prototypes', 0.4829327464103699)]"
      ]
     },
     "execution_count": 68,
     "metadata": {},
     "output_type": "execute_result"
    }
   ],
   "source": [
    "model.most_similar('specifications')"
   ]
  },
  {
   "cell_type": "markdown",
   "metadata": {},
   "source": [
    "#### We read the first page of the pdf document, which contains the 'Table of Contents'."
   ]
  },
  {
   "cell_type": "code",
   "execution_count": 4,
   "metadata": {},
   "outputs": [],
   "source": [
    "import PyPDF2\n",
    "\n",
    "pdfFileObj = open('design1.pdf', 'rb')\n",
    "pdfReader = PyPDF2.PdfFileReader(pdfFileObj)\n",
    "pageObj = pdfReader.getPage(0)\n",
    "p1 = pageObj.extractText()\n",
    "p1 = p1.split()"
   ]
  },
  {
   "cell_type": "code",
   "execution_count": 50,
   "metadata": {},
   "outputs": [
    {
     "data": {
      "text/plain": [
       "['Table',\n",
       " 'of',\n",
       " 'Contents',\n",
       " '1)',\n",
       " 'X',\n",
       " '2',\n",
       " '2)',\n",
       " 'Y',\n",
       " '7',\n",
       " '3)',\n",
       " 'Configuration',\n",
       " '9']"
      ]
     },
     "execution_count": 50,
     "metadata": {},
     "output_type": "execute_result"
    }
   ],
   "source": [
    "# The words in the Table of Contents\n",
    "p1"
   ]
  },
  {
   "cell_type": "markdown",
   "metadata": {},
   "source": [
    "#### In this case, 'specifications' are written as 'configuration'. Loop through every word in the Table of Contents, find the most similar term and print if the similarity is above a certain threshold\n"
   ]
  },
  {
   "cell_type": "code",
   "execution_count": 69,
   "metadata": {},
   "outputs": [
    {
     "name": "stdout",
     "output_type": "stream",
     "text": [
      "configuration\n",
      "Page number: 9\n"
     ]
    }
   ],
   "source": [
    "for word_n in range(len(p1)):\n",
    "    word = p1[word_n]\n",
    "    word = word.lower()\n",
    "    sim = 0\n",
    "    if word in word_vecs:\n",
    "        a = np.array(word_vecs[word])\n",
    "        b = np.array(word_vecs['specification'])\n",
    "        sim = np.mean(np.dot(a, b))\n",
    "        if sim > 20:\n",
    "            print(word)\n",
    "            page_num = p1[word_n + 1]\n",
    "            print('Page number:', page_num)"
   ]
  },
  {
   "cell_type": "markdown",
   "metadata": {},
   "source": [
    "#### The page number should follow immediately after the target term. Get the page number from the page, and read that specific page instead of going through the whole document."
   ]
  },
  {
   "cell_type": "code",
   "execution_count": 61,
   "metadata": {},
   "outputs": [],
   "source": [
    "# Read page 9, which contains the configuration in the pdf file\n",
    "page_num = int(page_num)- 1\n",
    "pageObj = pdfReader.getPage(page_num)\n",
    "p9 = pageObj.extractText()"
   ]
  },
  {
   "cell_type": "code",
   "execution_count": null,
   "metadata": {},
   "outputs": [],
   "source": [
    "# function to replace instances of unusual n placements\n",
    "import re\n",
    "def remove_rn(a):\n",
    "    a = a.replace(\"\\n\", \" \")\n",
    "    return a"
   ]
  },
  {
   "cell_type": "markdown",
   "metadata": {},
   "source": [
    "## Show the features extracted from the configuration page specifically"
   ]
  },
  {
   "cell_type": "code",
   "execution_count": 67,
   "metadata": {},
   "outputs": [
    {
     "data": {
      "text/plain": [
       "'Configuration:     Network Protocol: HTTPS   Requires a 64 - bit processor and operating system   OS: *Windows 7* / 8 / 8.1 / 10 (64 - bit OS required)   Processor: Intel Core i5 - 7500   Memory: 8 GB RAM   Graphics: NVIDIA GeForce GTX 1060 (3GB)   DirectX: Version 11   Network: Broadband Internet connection   Storage:  50 GB Storage   Sound Card: DirectX 11 sound card       '"
      ]
     },
     "execution_count": 67,
     "metadata": {},
     "output_type": "execute_result"
    }
   ],
   "source": [
    "remove_rn(p9)"
   ]
  }
 ],
 "metadata": {
  "kernelspec": {
   "display_name": "Python 3",
   "language": "python",
   "name": "python3"
  },
  "language_info": {
   "codemirror_mode": {
    "name": "ipython",
    "version": 3
   },
   "file_extension": ".py",
   "mimetype": "text/x-python",
   "name": "python",
   "nbconvert_exporter": "python",
   "pygments_lexer": "ipython3",
   "version": "3.7.3"
  }
 },
 "nbformat": 4,
 "nbformat_minor": 4
}
